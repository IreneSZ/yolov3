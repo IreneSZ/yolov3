{
 "cells": [
  {
   "cell_type": "code",
   "execution_count": 3,
   "metadata": {},
   "outputs": [],
   "source": [
    "from __future__ import print_function\n",
    "from pyquery import PyQuery as pq\n",
    "from collections import namedtuple\n",
    "from pathlib import Path\n",
    "import os"
   ]
  },
  {
   "cell_type": "code",
   "execution_count": null,
   "metadata": {},
   "outputs": [],
   "source": [
    "# move all the images to one folder\n",
    "import shutil\n",
    "dest = './image'\n",
    "folders = os.listdir('img')\n",
    "for i in range(len(folders)):\n",
    "    folder = folders[i]\n",
    "    for f in folder:\n",
    "        source = './img/' + folder + '/'\n",
    "        files = os.listdir(source)\n",
    "        for f in files:\n",
    "            shutil.move(source+f, dest)"
   ]
  },
  {
   "cell_type": "code",
   "execution_count": 67,
   "metadata": {},
   "outputs": [],
   "source": [
    "# create a txt that contains all the addresses of images\n",
    "path = Path('image')\n",
    "images = os.listdir(path)\n",
    "path_doc = Path('./image.txt')\n",
    "with path_doc.open(\"w\") as fout:\n",
    "    for image in images:\n",
    "        add = 'image' + '/' + image\n",
    "        fout.write(f\"{add}\\n\")\n",
    "    "
   ]
  },
  {
   "cell_type": "code",
   "execution_count": 36,
   "metadata": {},
   "outputs": [],
   "source": [
    "# create a txt that contains all the addresses of bounding boxes\n",
    "path = Path('bbox')\n",
    "path_doc = Path('./bbox.txt')\n",
    "add = 'bbox' + '/'\n",
    "with path_doc.open(\"w\") as fout:\n",
    "    names = os.listdir(path)\n",
    "    for i in range(len(names)):\n",
    "        tmp = add + names[i]\n",
    "        fout.write(f\"{tmp}\\n\")"
   ]
  },
  {
   "cell_type": "code",
   "execution_count": 110,
   "metadata": {},
   "outputs": [],
   "source": [
    "# count the number of images per class\n",
    "import glob\n",
    "class_list = os.listdir('img')\n",
    "class_count = dict((class_name, 0) for class_name in class_list)\n",
    "names = os.listdir('bbox')"
   ]
  },
  {
   "cell_type": "code",
   "execution_count": 112,
   "metadata": {},
   "outputs": [],
   "source": [
    "for name in names:\n",
    "    class_name = Path(name).stem\n",
    "    class_name = class_name.split('_')[0]\n",
    "    if class_name in class_count:\n",
    "        class_count[class_name] += 1\n"
   ]
  },
  {
   "cell_type": "code",
   "execution_count": 113,
   "metadata": {},
   "outputs": [
    {
     "data": {
      "text/plain": [
       "{'n04255670': 42,\n",
       " 'n02827606': 141,\n",
       " 'n04199027': 309,\n",
       " 'n04588739': 70,\n",
       " 'n03612965': 105,\n",
       " 'n02963821': 146,\n",
       " 'n04453156': 396,\n",
       " 'n04186051': 84,\n",
       " 'n03222176': 137,\n",
       " 'n03241335': 125,\n",
       " 'n03613294': 140,\n",
       " 'n02807731': 137,\n",
       " 'n04254120': 335,\n",
       " 'n03688605': 101,\n",
       " 'n03886762': 149,\n",
       " 'n04197391': 132,\n",
       " 'n03281524': 77,\n",
       " 'n04185804': 268,\n",
       " 'n03273913': 726,\n",
       " 'n04356595': 136,\n",
       " 'n04447861': 376,\n",
       " 'n02777734': 125,\n",
       " 'n04314914': 148,\n",
       " 'n03937543': 348,\n",
       " 'n04205318': 218,\n",
       " 'n04398044': 492}"
      ]
     },
     "execution_count": 113,
     "metadata": {},
     "output_type": "execute_result"
    }
   ],
   "source": [
    "class_count"
   ]
  },
  {
   "cell_type": "code",
   "execution_count": 115,
   "metadata": {},
   "outputs": [],
   "source": [
    "import json\n",
    "exdict = {'exdict': class_count}"
   ]
  },
  {
   "cell_type": "code",
   "execution_count": 116,
   "metadata": {},
   "outputs": [],
   "source": [
    "with open('number_per_class.txt', 'w') as fout:\n",
    "    fout.write(json.dumps(exdict))"
   ]
  },
  {
   "cell_type": "code",
   "execution_count": null,
   "metadata": {},
   "outputs": [],
   "source": []
  },
  {
   "cell_type": "code",
   "execution_count": null,
   "metadata": {},
   "outputs": [],
   "source": []
  },
  {
   "cell_type": "code",
   "execution_count": null,
   "metadata": {},
   "outputs": [],
   "source": []
  },
  {
   "cell_type": "code",
   "execution_count": null,
   "metadata": {},
   "outputs": [],
   "source": []
  },
  {
   "cell_type": "code",
   "execution_count": null,
   "metadata": {},
   "outputs": [],
   "source": []
  },
  {
   "cell_type": "code",
   "execution_count": null,
   "metadata": {},
   "outputs": [],
   "source": []
  }
 ],
 "metadata": {
  "@webio": {
   "lastCommId": "83d8a37d5d194f33be3e90d370bfa65b",
   "lastKernelId": "df96004f-5baa-4fcc-bf38-07785e35d84f"
  },
  "kernelspec": {
   "display_name": "Python 3",
   "language": "python",
   "name": "python3"
  },
  "language_info": {
   "codemirror_mode": {
    "name": "ipython",
    "version": 3
   },
   "file_extension": ".py",
   "mimetype": "text/x-python",
   "name": "python",
   "nbconvert_exporter": "python",
   "pygments_lexer": "ipython3",
   "version": "3.6.5"
  }
 },
 "nbformat": 4,
 "nbformat_minor": 2
}
