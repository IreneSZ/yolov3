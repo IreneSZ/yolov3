{
 "cells": [
  {
   "cell_type": "code",
   "execution_count": 1,
   "metadata": {},
   "outputs": [],
   "source": [
    "from pyquery import PyQuery as pq\n",
    "from collections import namedtuple\n",
    "from pathlib import Path"
   ]
  },
  {
   "cell_type": "code",
   "execution_count": 160,
   "metadata": {},
   "outputs": [],
   "source": [
    "Coor = namedtuple('Coor', ['xmin', 'ymin', 'xmax', 'ymax'])\n",
    "NormCoor = namedtuple('NormCoor', ['class_name','xcenter', 'ycenter', 'width', 'height'])\n",
    "Size = namedtuple('Size', ['w', 'h'])\n",
    "Box = namedtuple('Box', ['name', 'size', 'coor_lst'])"
   ]
  },
  {
   "cell_type": "code",
   "execution_count": 161,
   "metadata": {},
   "outputs": [],
   "source": [
    "def get_cordinates(filename):\n",
    "    doc = pq(filename=filename, parser='xml')\n",
    "    raw_list = []\n",
    "    raw_list.append(doc('filename')[0].text)\n",
    "    size = [int(doc('width')[0].text), int(doc('height')[0].text)]\n",
    "    raw_list.append(size) # [width, height]\n",
    "    class_name = doc('folder')[0].text\n",
    "\n",
    "    for obj in doc('object'):\n",
    "        obj_name = pq(obj)('name')[0].text\n",
    "        if obj_name == class_name:\n",
    "            boxes = pq(obj)('bndbox')\n",
    "            assert len(boxes) == 1\n",
    "            xylist = [int(boxes('xmin')[0].text),\n",
    "                     int(boxes('ymin')[0].text),\n",
    "                     int(boxes('xmax')[0].text),\n",
    "                     int(boxes('ymax')[0].text)]\n",
    "            raw_list.append(xylist)\n",
    "        else:\n",
    "            pass\n",
    "    return wrap(raw_list)\n",
    "\n",
    "def wrap(raw_list):\n",
    "    name = raw_list[0]\n",
    "    size = Size(*raw_list[1])\n",
    "    coor_lst = [Coor(*l) for l in raw_list[2:]]\n",
    "    return Box(name, size, coor_lst)"
   ]
  },
  {
   "cell_type": "code",
   "execution_count": 165,
   "metadata": {},
   "outputs": [],
   "source": [
    "def normalize_coor(box):\n",
    "    bb_list = []\n",
    "    for coor in box.coor_lst:\n",
    "        class_name = box.name.split(\"_\")[0]\n",
    "        xcenter = (coor.xmin + coor.xmax) / 2 / box.size.w\n",
    "        ycenter = (coor.ymin + coor.ymax) / 2 / box.size.h\n",
    "        width = (coor.xmax - coor.xmin) / box.size.w\n",
    "        height = (coor.ymax - coor.ymin) / box.size.h\n",
    "        norm_coor = NormCoor(class_name, xcenter, ycenter, width, height)\n",
    "        bb_list.append(norm_coor)\n",
    "    return bb_list\n",
    "        "
   ]
  },
  {
   "cell_type": "code",
   "execution_count": 183,
   "metadata": {},
   "outputs": [],
   "source": [
    "def write_to_txt(bb_list, path):\n",
    "    path = Path(path)\n",
    "    file_name = bb_list[0].class_name\n",
    "    with path.open(\"w\") as fout:\n",
    "        for coor in bb_list:\n",
    "            fout.write(f\"{file_name} {coor.xcenter} {coor.ycenter} {coor.width} {coor.height}\\n\")\n",
    "            \n",
    "            "
   ]
  },
  {
   "cell_type": "code",
   "execution_count": 199,
   "metadata": {},
   "outputs": [],
   "source": [
    "p = Path('bbox')\n",
    "p.mkdir(parents=True, exist_ok=True)\n",
    "bb_p = Path('bb')\n",
    "for old_path in bb_p.glob('*/*.xml'):\n",
    "    filename = p / Path(old_path.stem).with_suffix('.txt') \n",
    "    box = get_cordinates(old_path)\n",
    "    bb_list = normalize_coor(box)\n",
    "    write_to_txt(bb_list, filename)\n",
    "\n",
    "\n",
    "    "
   ]
  },
  {
   "cell_type": "code",
   "execution_count": null,
   "metadata": {},
   "outputs": [],
   "source": []
  }
 ],
 "metadata": {
  "@webio": {
   "lastCommId": "5d6a8884a1d54b4f892bee192866e4a8",
   "lastKernelId": "38f990b1-5f17-4ecd-a5f7-7834ca223bd1"
  },
  "kernelspec": {
   "display_name": "Python 3",
   "language": "python",
   "name": "python3"
  },
  "language_info": {
   "codemirror_mode": {
    "name": "ipython",
    "version": 3
   },
   "file_extension": ".py",
   "mimetype": "text/x-python",
   "name": "python",
   "nbconvert_exporter": "python",
   "pygments_lexer": "ipython3",
   "version": "3.6.5"
  }
 },
 "nbformat": 4,
 "nbformat_minor": 2
}
