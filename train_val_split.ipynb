{
 "cells": [
  {
   "cell_type": "code",
   "execution_count": 37,
   "metadata": {},
   "outputs": [],
   "source": [
    "# 85% for training\n",
    "\n",
    "import os\n",
    "import random\n",
    "import math\n",
    "\n",
    "# the random part\n",
    "path = 'image'\n",
    "files = os.listdir(path)\n",
    "num_training = math.floor(0.85*len(files))\n",
    "num_val = len(files) - num_training\n",
    "train = random.sample(range(0, len(files)), num_training)"
   ]
  },
  {
   "cell_type": "code",
   "execution_count": 38,
   "metadata": {},
   "outputs": [],
   "source": [
    "# non-random from below\n",
    "# write the resulting training image add\n",
    "train_list = []\n",
    "with open(\"train_img_add.txt\", \"w\") as fout:\n",
    "    for index in train:\n",
    "        train_add = 'image/' + files[index]\n",
    "        fout.write(f\"{train_add}\\n\")\n",
    "        train_list.append(files[index])"
   ]
  },
  {
   "cell_type": "code",
   "execution_count": 39,
   "metadata": {},
   "outputs": [],
   "source": [
    "# the images that are not in training are included in test\n",
    "train_set = set(train_list)\n",
    "test_list = []\n",
    "with open(\"test_img_add.txt\", \"w\") as fout:\n",
    "    for image in files:\n",
    "        if image not in train_set:\n",
    "            test_add = 'image/' + image\n",
    "            test_list.append(image)\n",
    "            fout.write(f\"{test_add}\\n\")"
   ]
  },
  {
   "cell_type": "code",
   "execution_count": 40,
   "metadata": {},
   "outputs": [
    {
     "data": {
      "text/plain": [
       "True"
      ]
     },
     "execution_count": 40,
     "metadata": {},
     "output_type": "execute_result"
    }
   ],
   "source": [
    "len(test_list) + len(train_set) == len(files)"
   ]
  },
  {
   "cell_type": "code",
   "execution_count": 45,
   "metadata": {},
   "outputs": [],
   "source": [
    "# add for train's bounding boxes\n",
    "with open(\"train_label_add.txt\", \"w\") as fout:\n",
    "    for image in train_list:\n",
    "        image = \"bbox/\" + image.split('.')[0] + \".txt\"\n",
    "        fout.write(f\"{image}\\n\")\n"
   ]
  },
  {
   "cell_type": "code",
   "execution_count": 46,
   "metadata": {},
   "outputs": [],
   "source": [
    "with open(\"test_label_add.txt\", \"w\") as fout:\n",
    "    for image in test_list:\n",
    "        image = \"bbox/\" + image.split('.')[0] + \".txt\"\n",
    "        fout.write(f\"{image}\\n\")"
   ]
  },
  {
   "cell_type": "code",
   "execution_count": null,
   "metadata": {},
   "outputs": [],
   "source": []
  },
  {
   "cell_type": "code",
   "execution_count": null,
   "metadata": {},
   "outputs": [],
   "source": []
  },
  {
   "cell_type": "code",
   "execution_count": null,
   "metadata": {},
   "outputs": [],
   "source": []
  },
  {
   "cell_type": "code",
   "execution_count": null,
   "metadata": {},
   "outputs": [],
   "source": []
  }
 ],
 "metadata": {
  "@webio": {
   "lastCommId": "769fcab692eb4e808b99bef9c8285bd3",
   "lastKernelId": "a0b848e2-decd-4925-8d65-ef54053b91ec"
  },
  "kernelspec": {
   "display_name": "Python 3",
   "language": "python",
   "name": "python3"
  },
  "language_info": {
   "codemirror_mode": {
    "name": "ipython",
    "version": 3
   },
   "file_extension": ".py",
   "mimetype": "text/x-python",
   "name": "python",
   "nbconvert_exporter": "python",
   "pygments_lexer": "ipython3",
   "version": "3.6.5"
  }
 },
 "nbformat": 4,
 "nbformat_minor": 2
}
